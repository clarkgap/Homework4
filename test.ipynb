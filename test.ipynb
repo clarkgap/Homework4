{
 "cells": [
  {
   "cell_type": "code",
   "execution_count": 3,
   "metadata": {
    "collapsed": true
   },
   "outputs": [
    {
     "data": {
      "text/plain": "     fun: 4.411764720309136\n     jac: array([ 3.14753878, -2.75414187,  0.39339691])\n message: 'Optimization terminated successfully'\n    nfev: 24\n     nit: 6\n    njev: 6\n  status: 0\n success: True\n       x: array([ 1.57376938, -1.37707095,  0.19669843])"
     },
     "execution_count": 3,
     "metadata": {},
     "output_type": "execute_result"
    }
   ],
   "source": [
    "from scipy.optimize import minimize\n",
    "fun = lambda x: x[0]**2 + x[1]**2+x[2]**2\n",
    "\n",
    "cons = ({'type': 'eq', 'fun': lambda x:  x[0]**2/4+x[1]**2/5+x[2]**2/25-1},\n",
    "        {'type': 'eq', 'fun': lambda x:  x[0]+x[1]-x[2]})\n",
    "bnds = ((-2, 2), (-2.3, 2.3), (-5, 5))\n",
    "\n",
    "x0 = [1,0,0]\n",
    "res = minimize(fun, x0, method='SLSQP',bounds=bnds,\n",
    "               constraints=cons)\n",
    "res"
   ]
  }
 ],
 "metadata": {
  "kernelspec": {
   "display_name": "Python 3",
   "language": "python",
   "name": "python3"
  },
  "language_info": {
   "codemirror_mode": {
    "name": "ipython",
    "version": 2
   },
   "file_extension": ".py",
   "mimetype": "text/x-python",
   "name": "python",
   "nbconvert_exporter": "python",
   "pygments_lexer": "ipython2",
   "version": "2.7.6"
  }
 },
 "nbformat": 4,
 "nbformat_minor": 0
}