{
 "cells": [
  {
   "cell_type": "code",
   "execution_count": 124,
   "metadata": {
    "collapsed": true,
    "pycharm": {
     "name": "#%%\n"
    }
   },
   "outputs": [
    {
     "name": "stdout",
     "output_type": "stream",
     "text": [
      "0 10*sqrt(29)/29\n",
      "tensor([1.8570, 0.0000, 1.8570])\n",
      "tensor(5.9488)\n",
      "tensor([6.4510])\n",
      "8\n",
      "0.00390625\n"
     ]
    }
   ],
   "source": [
    "\n",
    "from sympy.solvers import solve\n",
    "from sympy import Symbol\n",
    "import torch as t\n",
    "import math\n",
    "\n",
    "# initial guess:\n",
    "x1 = Symbol('x1')\n",
    "x2 = 0\n",
    "x1 = solve(x1**2/4 + x2**2/5 + (x1+x2)**2/25 - 1, x1)[1]\n",
    "x3 = x1+x2\n",
    "print(x2,x3)\n",
    "x = t.tensor([10*math.sqrt(29)/29, 0, 10*math.sqrt(29)/29])\n",
    "print(x)\n",
    "\n",
    "# define problem:\n",
    "def obj(x):\n",
    "    return x[0]**2+x[1]**2+x[2]**2\n",
    "\n",
    "def h1(x):\n",
    "    return x[0]**2/4+x[1]**2/5+x[2]**2/25-1\n",
    "\n",
    "def h2(x):\n",
    "    return x[0]+x[1]-x[2]\n",
    "\n",
    "# define d and s, Choice d = x1 (x[0]); s = [x2 x3] (x[1], x[2])\n",
    "def d(x):\n",
    "    return t.tensor([x[0]])\n",
    "def s(x):\n",
    "    return t.tensor([x[1],x[2]])\n",
    "\n",
    "\n",
    "# Calculate Gradient: e means partial derivative symbol\n",
    "def ef_ed(x):\n",
    "    return t.tensor([2*x[0]])\n",
    "\n",
    "def ef_es(x):\n",
    "    return t.tensor([2*x[1],2*x[2]])\n",
    "\n",
    "def eh_es(x):\n",
    "    return t.tensor([[2*x[1]/5,2*x[2]/25],\n",
    "                    [1,-1]])\n",
    "\n",
    "def eh_ed(x):\n",
    "    return t.tensor([[x[0]/2],\n",
    "                     [1]])\n",
    "\n",
    "def df_dd(x):\n",
    "    return ef_ed(x) - t.matmul(t.matmul(ef_es(x),t.inverse(eh_es(x))),eh_ed(x))\n",
    "\n",
    "def linesearch(x):\n",
    "\n",
    "    a = 1\n",
    "    b = 0.5\n",
    "    c = 0.3\n",
    "    i = 0\n",
    "    def f_a(x):\n",
    "        x_k_1 = t.cat([d(x)-a*df_dd(x), t.squeeze(s(x) + a*t.transpose(t.matmul(t.inverse(eh_es(x)),eh_ed(x))*df_dd(x),0,1))])\n",
    "        return obj(x_k_1)\n",
    "    def f__a(x):\n",
    "        return obj(x) - a*c*df_dd(x)**2\n",
    "\n",
    "    while(f_a(x)>f__a(x)):\n",
    "        a = b*a\n",
    "        i = i+1\n",
    "    print(f_a(x))\n",
    "    print(f__a(x))\n",
    "    print(i)\n",
    "    print(a)\n",
    "\n",
    "linesearch(x)"
   ]
  },
  {
   "cell_type": "code",
   "execution_count": 45,
   "outputs": [
    {
     "name": "stdout",
     "output_type": "stream",
     "text": [
      "tensor([0.0000, 1.8570])\n"
     ]
    }
   ],
   "source": [
    "import torch as t\n"
   ],
   "metadata": {
    "collapsed": false,
    "pycharm": {
     "name": "#%%\n"
    }
   }
  }
 ],
 "metadata": {
  "kernelspec": {
   "display_name": "Python 3",
   "language": "python",
   "name": "python3"
  },
  "language_info": {
   "codemirror_mode": {
    "name": "ipython",
    "version": 2
   },
   "file_extension": ".py",
   "mimetype": "text/x-python",
   "name": "python",
   "nbconvert_exporter": "python",
   "pygments_lexer": "ipython2",
   "version": "2.7.6"
  }
 },
 "nbformat": 4,
 "nbformat_minor": 0
}