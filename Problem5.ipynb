{
 "cells": [
  {
   "cell_type": "code",
   "execution_count": 221,
   "metadata": {
    "collapsed": true,
    "pycharm": {
     "name": "#%%\n"
    }
   },
   "outputs": [
    {
     "name": "stdout",
     "output_type": "stream",
     "text": [
      "0 10*sqrt(29)/29\n",
      "tensor([1.8570, 0.0000, 1.8570])\n",
      "tensor([ 1.9331, -0.4039,  1.5202])\n",
      "tensor([[0.0593],\n",
      "        [0.0091]])\n",
      "tensor(6.2109)\n",
      "tensor([ 1.9166, -0.6012,  1.3029])\n",
      "tensor([[0.0585],\n",
      "        [0.0125]])\n",
      "tensor(5.7323)\n",
      "tensor([ 1.8487, -0.9179,  0.9131])\n",
      "tensor([[0.0563],\n",
      "        [0.0176]])\n",
      "tensor(5.0940)\n",
      "tensor([ 1.7629, -1.1450,  0.5972])\n",
      "tensor([[0.0534],\n",
      "        [0.0207]])\n",
      "tensor(4.7753)\n",
      "tensor([ 1.6929, -1.2839,  0.3864])\n",
      "tensor([[0.0521],\n",
      "        [0.0227]])\n",
      "tensor(4.6636)\n",
      "tensor([ 1.6649, -1.3347,  0.3075])\n",
      "tensor([[0.0531],\n",
      "        [0.0227]])\n",
      "tensor(4.6481)\n",
      "tensor([ 1.6345, -1.3860,  0.2258])\n",
      "tensor([[0.0541],\n",
      "        [0.0227]])\n",
      "tensor(4.6435)\n",
      "tensor([ 1.6278, -1.3964,  0.2087])\n",
      "tensor([[0.0542],\n",
      "        [0.0227]])\n",
      "tensor(4.6432)\n"
     ]
    }
   ],
   "source": [
    "\n",
    "from sympy.solvers import solve\n",
    "from sympy import Symbol\n",
    "import torch as t\n",
    "import math\n",
    "import numpy as np\n",
    "from scipy import optimize\n",
    "\n",
    "# initial guess:\n",
    "x1 = Symbol('x1')\n",
    "x2 = 0\n",
    "x1 = solve(x1**2/4 + x2**2/5 + (x1+x2)**2/25 - 1, x1)[1]\n",
    "x3 = x1+x2\n",
    "print(x2,x3)\n",
    "x = t.tensor([10*math.sqrt(29)/29, 0, 10*math.sqrt(29)/29])\n",
    "print(x)\n",
    "\n",
    "# define problem:\n",
    "def obj(x):\n",
    "    return x[0]**2+x[1]**2+x[2]**2\n",
    "\n",
    "def h(x):\n",
    "    return t.tensor([[x[0]**2/4+x[1]**2/5+x[2]**2/25-1],\n",
    "                    [x[0]+x[1]-x[2]]])\n",
    "\n",
    "# define d and s, Choice d = x1 (x[0]); s = [x2 x3] (x[1], x[2])\n",
    "def d(x):\n",
    "    return t.tensor([x[0]])\n",
    "def s(x):\n",
    "    return t.tensor([x[1],x[2]])\n",
    "\n",
    "\n",
    "# Calculate Gradient: e means partial derivative symbol\n",
    "def ef_ed(x):\n",
    "    return t.tensor([2*x[0]])\n",
    "\n",
    "def ef_es(x):\n",
    "    return t.tensor([2*x[1],2*x[2]])\n",
    "\n",
    "def eh_es(x):\n",
    "    return t.tensor([[2*x[1]/5,2*x[2]/25],\n",
    "                    [1,-1]])\n",
    "\n",
    "def eh_ed(x):\n",
    "    return t.tensor([[x[0]/2],\n",
    "                     [1]])\n",
    "\n",
    "def df_dd(x):\n",
    "    return ef_ed(x) - t.matmul(t.matmul(ef_es(x),t.inverse(eh_es(x))),eh_ed(x))\n",
    "\n",
    "def linesearch(x):\n",
    "    a = 1\n",
    "    b = 0.5\n",
    "    c = 0.3\n",
    "    i = 0\n",
    "    def f_a(x):\n",
    "        x_k_1 = t.cat([d(x)-a*df_dd(x), t.squeeze(s(x) + a*t.transpose(t.matmul(t.inverse(eh_es(x)),eh_ed(x))*df_dd(x),0,1))])\n",
    "        return obj(x_k_1)\n",
    "    def f__a(x):\n",
    "        return obj(x) - a*c*df_dd(x)**2\n",
    "    while(f_a(x)>f__a(x)):\n",
    "        a = b*a\n",
    "        i = i+1\n",
    "        if i>=50:\n",
    "            print('linesearch issue')\n",
    "            exit()\n",
    "    return a\n",
    "\n",
    "def solver(x):\n",
    "    j = 0\n",
    "    while t.norm(h(x))>0.06:\n",
    "        Ch = t.matmul(t.inverse(t.add(t.matmul(eh_es(x),t.transpose(eh_es(x),0,1)),t.eye(2))),t.transpose(eh_es(x),0,1))\n",
    "        s_k_1 = t.squeeze(s(x) - t.transpose(t.matmul(Ch,h(x)),0,1))\n",
    "        x = t.cat([d_k_1, s_k_1])\n",
    "        j = j+1\n",
    "    return x\n",
    "\n",
    "E = 0.01\n",
    "while df_dd(x)**2>E:\n",
    "    a = linesearch(x)\n",
    "    d_k_1 = d(x) - a*df_dd(x)\n",
    "    s0_k_1 = t.squeeze(s(x) + a*t.transpose(t.matmul(t.inverse(eh_es(x)),eh_ed(x))*df_dd(x),0,1))\n",
    "    x = t.cat([d_k_1, s0_k_1])\n",
    "    x = solver(x)\n",
    "print(x)\n",
    "print(h(x))\n",
    "print(obj(x))\n"
   ]
  },
  {
   "cell_type": "code",
   "execution_count": 222,
   "outputs": [
    {
     "data": {
      "text/plain": "     fun: 4.411764720309136\n     jac: array([ 3.14753878, -2.75414187,  0.39339691])\n message: 'Optimization terminated successfully'\n    nfev: 24\n     nit: 6\n    njev: 6\n  status: 0\n success: True\n       x: array([ 1.57376938, -1.37707095,  0.19669843])"
     },
     "execution_count": 222,
     "metadata": {},
     "output_type": "execute_result"
    }
   ],
   "source": [
    "from scipy.optimize import minimize\n",
    "fun = lambda x: x[0]**2 + x[1]**2+x[2]**2\n",
    "\n",
    "cons = ({'type': 'eq', 'fun': lambda x:  x[0]**2/4+x[1]**2/5+x[2]**2/25-1},\n",
    "        {'type': 'eq', 'fun': lambda x:  x[0]+x[1]-x[2]})\n",
    "bnds = ((-2, 2), (-2.3, 2.3), (-5, 5))\n",
    "\n",
    "x0 = [1,0,0]\n",
    "res = minimize(fun, x0, method='SLSQP',bounds=bnds,\n",
    "               constraints=cons)\n",
    "res"
   ],
   "metadata": {
    "collapsed": false,
    "pycharm": {
     "name": "#%%\n"
    }
   }
  }
 ],
 "metadata": {
  "kernelspec": {
   "display_name": "Python 3",
   "language": "python",
   "name": "python3"
  },
  "language_info": {
   "codemirror_mode": {
    "name": "ipython",
    "version": 2
   },
   "file_extension": ".py",
   "mimetype": "text/x-python",
   "name": "python",
   "nbconvert_exporter": "python",
   "pygments_lexer": "ipython2",
   "version": "2.7.6"
  }
 },
 "nbformat": 4,
 "nbformat_minor": 0
}